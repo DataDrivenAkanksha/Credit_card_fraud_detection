{
  "nbformat": 4,
  "nbformat_minor": 0,
  "metadata": {
    "colab": {
      "provenance": [],
      "authorship_tag": "ABX9TyNUZM34d1CTtCpPAJ3KJb7D",
      "include_colab_link": true
    },
    "kernelspec": {
      "name": "python3",
      "display_name": "Python 3"
    },
    "language_info": {
      "name": "python"
    }
  },
  "cells": [
    {
      "cell_type": "markdown",
      "metadata": {
        "id": "view-in-github",
        "colab_type": "text"
      },
      "source": [
        "<a href=\"https://colab.research.google.com/github/DataDrivenAkanksha/Credit_card_fraud_detection/blob/main/app_credit_card_py.ipynb\" target=\"_parent\"><img src=\"https://colab.research.google.com/assets/colab-badge.svg\" alt=\"Open In Colab\"/></a>"
      ]
    },
    {
      "cell_type": "code",
      "execution_count": null,
      "metadata": {
        "id": "9U6A6dXEk0S1"
      },
      "outputs": [],
      "source": [
        "import streamlit as st\n",
        "import pandas as pd\n",
        "import numpy as np\n",
        "import joblib\n",
        "from sklearn.preprocessing import StandardScaler\n",
        "\n",
        "\n",
        "#Title\n",
        "st.set_page_config(page_title=\"Credit Card Fraud Detection\", layout=\"centered\")\n",
        "\n",
        "st.title(\"💳 Credit Card Fraud Detection App\")\n",
        "st.write(\"This app predicts whether a credit card transaction is **fraudulent or genuine** using 30 numerical features.\")\n",
        "\n",
        "\n",
        "# Load Model\n",
        "\n",
        "model = joblib.load(\"random_forest.pkl\")\n",
        "\n",
        "# Input Method Selection\n",
        "\n",
        "option = st.radio(\"Select Input Method\", [\"Upload CSV\", \"Manual Entry\"])\n",
        "\n",
        "# Standard Scaler for Time and Amount\n",
        "\n",
        "scaler = joblib.load(\"scaler.pkl\")\n",
        "\n",
        "# CSV Upload\n",
        "\n",
        "if option == \"Upload CSV\":\n",
        "    uploaded_file = st.file_uploader(\"Upload your transaction CSV file (30 features, no Class column)\", type=[\"csv\"])\n",
        "    if uploaded_file is not None:\n",
        "        data = pd.read_csv(uploaded_file)\n",
        "\n",
        "        # Check for correct columns\n",
        "        expected_cols = ['Time'] + [f'V{i}' for i in range(1, 29)] + ['Amount']\n",
        "        if not all(col in data.columns for col in expected_cols):\n",
        "            st.error(f\"❌ Uploaded file must contain the following columns:\\n{expected_cols}\")\n",
        "        else:\n",
        "            st.write(\"✅ Uploaded Data Preview:\")\n",
        "            st.dataframe(data.head())\n",
        "\n",
        "            # Standard scale Time and Amount\n",
        "            data[['Time', 'Amount']] = scaler.transform(data[['Time', 'Amount']])\n",
        "\n",
        "            # Predict\n",
        "            if st.button(\"Predict\"):\n",
        "                predictions = model.predict(data)\n",
        "                data['Predicted Class'] = predictions\n",
        "                st.success(\"🎯 Prediction Complete!\")\n",
        "                st.dataframe(data)\n",
        "\n",
        "# Manual Entry\n",
        "\n",
        "else:\n",
        "    st.subheader(\"Enter Transaction Details\")\n",
        "\n",
        "    time = st.number_input(\"Time\", min_value=0.0, value=172792.0)\n",
        "    amount = st.number_input(\"Amount\", min_value=0.0, value=50000.0)\n",
        "\n",
        "    v_features = {}\n",
        "    for i in range(1, 29):\n",
        "        v_features[f\"V{i}\"] = st.number_input(f\"V{i}\", value=0.0, step=0.01)\n",
        "\n",
        "    # Combine inputs\n",
        "    input_data = pd.DataFrame([{\"Time\": time, **v_features, \"Amount\": amount}])\n",
        "\n",
        "    # Apply standard scaling to Time and Amount\n",
        "    input_data[['Time', 'Amount']] = scaler.transform(input_data[['Time', 'Amount']])\n",
        "\n",
        "    st.write(\"Input Summary:\")\n",
        "    st.dataframe(input_data)\n",
        "\n",
        "    if st.button(\"Predict\"):\n",
        "        prediction = model.predict(input_data)[0]\n",
        "        if prediction == 1:\n",
        "            st.error(\"⚠️ Fraudulent Transaction Detected!\")\n",
        "        else:\n",
        "            st.success(\"✅ Legitimate Transaction\")\n",
        "\n",
        "st.caption(\"Note: Model uses 30 input columns (Time, V1–V28, Amount). 'Class' is the predicted output.\")\n",
        "\n",
        "\n"
      ]
    }
  ]
}